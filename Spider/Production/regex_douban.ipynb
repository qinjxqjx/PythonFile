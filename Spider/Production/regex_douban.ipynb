{
 "cells": [
  {
   "cell_type": "code",
   "execution_count": null,
   "metadata": {},
   "outputs": [],
   "source": [
    "import requests\n",
    "import re\n",
    "\n",
    "content=requests.get('https://book.douban.com/').text\n",
    "#print(content.text)\n",
    "patten=re.compile('.*?cover.*?ref=\"(.*?)\".*?title=\"(.*?)\".*?more-meta.*?\"author\">(.*?)<\\span>.*?\"year\">(.*?)<\\span>.*?\"publisher\">(.*?)<\\span>.*?</li>',re.S)\n",
    "results=re.findall(patten,content)\n",
    "print(results)"
   ]
  },
  {
   "cell_type": "code",
   "execution_count": null,
   "metadata": {},
   "outputs": [],
   "source": []
  }
 ],
 "metadata": {
  "kernelspec": {
   "display_name": "Python 3",
   "language": "python",
   "name": "python3"
  },
  "language_info": {
   "codemirror_mode": {
    "name": "ipython",
    "version": 3
   },
   "file_extension": ".py",
   "mimetype": "text/x-python",
   "name": "python",
   "nbconvert_exporter": "python",
   "pygments_lexer": "ipython3",
   "version": "3.6.4"
  }
 },
 "nbformat": 4,
 "nbformat_minor": 2
}
