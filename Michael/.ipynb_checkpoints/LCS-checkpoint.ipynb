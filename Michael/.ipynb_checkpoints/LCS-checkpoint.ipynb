{
 "cells": [
  {
   "cell_type": "code",
   "execution_count": 1,
   "metadata": {
    "collapsed": false
   },
   "outputs": [
    {
     "ename": "SyntaxError",
     "evalue": "invalid syntax (<ipython-input-1-b96b5edd6866>, line 24)",
     "output_type": "error",
     "traceback": [
      "\u001b[0;36m  File \u001b[0;32m\"<ipython-input-1-b96b5edd6866>\"\u001b[0;36m, line \u001b[0;32m24\u001b[0m\n\u001b[0;31m    print(a[i-1],end='')\u001b[0m\n\u001b[0m                    ^\u001b[0m\n\u001b[0;31mSyntaxError\u001b[0m\u001b[0;31m:\u001b[0m invalid syntax\n"
     ]
    }
   ],
   "source": [
    "def lcs(a,b):\n",
    "  lena=len(a)\n",
    "  lenb=len(b)\n",
    "  c=[[0 for i in range(lenb+1)] for j in range(lena+1)]\n",
    "  flag=[[0 for i in range(lenb+1)] for j in range(lena+1)]\n",
    "  for i in range(lena):\n",
    "    for j in range(lenb):\n",
    "      if a[i]==b[j]:\n",
    "        c[i+1][j+1]=c[i][j]+1\n",
    "        flag[i+1][j+1]='ok'\n",
    "      elif c[i+1][j]>c[i][j+1]:\n",
    "        c[i+1][j+1]=c[i+1][j]\n",
    "        flag[i+1][j+1]='left'\n",
    "      else:\n",
    "        c[i+1][j+1]=c[i][j+1]\n",
    "        flag[i+1][j+1]='up'\n",
    "  return c,flag\n",
    "\n",
    "def printLcs(flag,a,i,j):\n",
    "  if i==0 or j==0:\n",
    "    return\n",
    "  if flag[i][j]=='ok':\n",
    "    printLcs(flag,a,i-1,j-1)\n",
    "    print(a[i-1],end='')\n",
    "  elif flag[i][j]=='left':\n",
    "    printLcs(flag,a,i,j-1)\n",
    "  else:\n",
    "    printLcs(flag,a,i-1,j)\n",
    "    \n",
    "a='ABCBDAB'\n",
    "b='BDCABA'\n",
    "c,flag=lcs(a,b)\n",
    "for i in c:\n",
    "  print(i)\n",
    "print('')\n",
    "for j in flag:\n",
    "  print(j)\n",
    "print('')\n",
    "printLcs(flag,a,len(a),len(b))\n",
    "print('')"
   ]
  }
 ],
 "metadata": {
  "kernelspec": {
   "display_name": "Python 2",
   "language": "python",
   "name": "python2"
  },
  "language_info": {
   "codemirror_mode": {
    "name": "ipython",
    "version": 2
   },
   "file_extension": ".py",
   "mimetype": "text/x-python",
   "name": "python",
   "nbconvert_exporter": "python",
   "pygments_lexer": "ipython2",
   "version": "2.7.5"
  }
 },
 "nbformat": 4,
 "nbformat_minor": 1
}
