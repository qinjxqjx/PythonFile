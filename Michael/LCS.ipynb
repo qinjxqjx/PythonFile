{
 "cells": [
  {
   "cell_type": "code",
   "execution_count": 3,
   "metadata": {
    "collapsed": false
   },
   "outputs": [
    {
     "name": "stdout",
     "output_type": "stream",
     "text": [
      "[0, 0, 0, 0, 0, 0, 0]\n",
      "[0, 0, 0, 0, 1, 1, 1]\n",
      "[0, 1, 1, 1, 1, 2, 2]\n",
      "[0, 1, 1, 2, 2, 2, 2]\n",
      "[0, 1, 1, 2, 2, 3, 3]\n",
      "[0, 1, 2, 2, 2, 3, 3]\n",
      "[0, 1, 2, 2, 3, 3, 4]\n",
      "[0, 1, 2, 2, 3, 4, 4]\n",
      "\n",
      "[0, 0, 0, 0, 0, 0, 0]\n",
      "[0, 'up', 'up', 'up', 'ok', 'left', 'ok']\n",
      "[0, 'ok', 'left', 'left', 'up', 'ok', 'left']\n",
      "[0, 'up', 'up', 'ok', 'left', 'up', 'up']\n",
      "[0, 'ok', 'up', 'up', 'up', 'ok', 'left']\n",
      "[0, 'up', 'ok', 'up', 'up', 'up', 'up']\n",
      "[0, 'up', 'up', 'up', 'ok', 'up', 'ok']\n",
      "[0, 'ok', 'up', 'up', 'up', 'ok', 'up']\n",
      "\n",
      "B\n",
      "C\n",
      "B\n",
      "A\n",
      "\n"
     ]
    }
   ],
   "source": [
    "def lcs(a,b):\n",
    "  lena=len(a)\n",
    "  lenb=len(b)\n",
    "  c=[[0 for i in range(lenb+1)] for j in range(lena+1)]\n",
    "  flag=[[0 for i in range(lenb+1)] for j in range(lena+1)]\n",
    "  for i in range(lena):\n",
    "    for j in range(lenb):\n",
    "      if a[i]==b[j]:\n",
    "        c[i+1][j+1]=c[i][j]+1\n",
    "        flag[i+1][j+1]='ok'\n",
    "      elif c[i+1][j]>c[i][j+1]:\n",
    "        c[i+1][j+1]=c[i+1][j]\n",
    "        flag[i+1][j+1]='left'\n",
    "      else:\n",
    "        c[i+1][j+1]=c[i][j+1]\n",
    "        flag[i+1][j+1]='up'\n",
    "  return c,flag\n",
    "\n",
    "def printLcs(flag,a,i,j):\n",
    "  if i==0 or j==0:\n",
    "    return\n",
    "  if flag[i][j]=='ok':\n",
    "    printLcs(flag,a,i-1,j-1)\n",
    "    print a[i-1]\n",
    "  elif flag[i][j]=='left':\n",
    "    printLcs(flag,a,i,j-1)\n",
    "  else:\n",
    "    printLcs(flag,a,i-1,j)\n",
    "    \n",
    "a='ABCBDAB'\n",
    "b='BDCABA'\n",
    "c,flag=lcs(a,b)\n",
    "for i in c:\n",
    "  print(i)\n",
    "print('')\n",
    "for j in flag:\n",
    "  print(j)\n",
    "print('')\n",
    "printLcs(flag,a,len(a),len(b))\n",
    "print('')"
   ]
  }
 ],
 "metadata": {
  "kernelspec": {
   "display_name": "Python 2",
   "language": "python",
   "name": "python2"
  },
  "language_info": {
   "codemirror_mode": {
    "name": "ipython",
    "version": 2
   },
   "file_extension": ".py",
   "mimetype": "text/x-python",
   "name": "python",
   "nbconvert_exporter": "python",
   "pygments_lexer": "ipython2",
   "version": "2.7.5"
  }
 },
 "nbformat": 4,
 "nbformat_minor": 1
}
